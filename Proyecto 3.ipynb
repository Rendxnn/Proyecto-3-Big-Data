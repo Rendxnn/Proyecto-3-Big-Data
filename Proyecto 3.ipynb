{
 "cells": [
  {
   "cell_type": "code",
   "execution_count": 2,
   "id": "ed25a10e",
   "metadata": {
    "scrolled": true
   },
   "outputs": [
    {
     "data": {
      "application/vnd.jupyter.widget-view+json": {
       "model_id": "",
       "version_major": 2,
       "version_minor": 0
      },
      "text/plain": [
       "FloatProgress(value=0.0, bar_style='info', description='Progress:', layout=Layout(height='25px', width='50%'),…"
      ]
     },
     "metadata": {},
     "output_type": "display_data"
    }
   ],
   "source": [
    "from pyspark.sql import SparkSession\n",
    "import requests"
   ]
  },
  {
   "cell_type": "code",
   "execution_count": null,
   "id": "9de3aa3a",
   "metadata": {},
   "outputs": [],
   "source": [
    "size = 20_000\n",
    "total_rows = 1_000_000\n",
    "covid_data_base_uri = 'https://www.datos.gov.co/api/id/gt2j-8ykr.json?$query='\n",
    "s3_path = 's3://rendontrujillobucket/covid_data/'"
   ]
  },
  {
   "cell_type": "code",
   "execution_count": null,
   "id": "e39bd461",
   "metadata": {},
   "outputs": [],
   "source": [
    "#Funcion para hacer peticion\n",
    "def fetch_data(offset, size):\n",
    "    uri = f'{covid_data_base_uri} select * limit {size} offset {offset}'\n",
    "    \n",
    "    response = requests.get(uri)  \n",
    "    if response.status_code == 200: \n",
    "        return response.json()  \n",
    "    else:\n",
    "        print(f\"Error fetching offset {offset}\")  \n",
    "        return None  "
   ]
  },
  {
   "cell_type": "code",
   "execution_count": null,
   "id": "b0ca78cd",
   "metadata": {},
   "outputs": [],
   "source": [
    "#Funcion para traer un total de filas de datos de covid\n",
    "def fetch_and_save_data(total_rows, size, s3_path):\n",
    "    all_data = [] \n",
    "\n",
    "    for offset in range(0, total_rows, size):\n",
    "        data = fetch_data(offset, size) \n",
    "        if data:\n",
    "            all_data.extend(data) \n",
    "\n",
    "    if all_data:\n",
    "        df = spark.createDataFrame(all_data)  \n",
    "        df.write.mode(\"overwrite\").parquet(s3_path)  \n",
    "        print(f\"All data saved to S3 at {s3_path}\")\n",
    "    else:\n",
    "        print(\"No data to save\")"
   ]
  },
  {
   "cell_type": "code",
   "execution_count": null,
   "id": "ed59679e",
   "metadata": {},
   "outputs": [],
   "source": [
    "fetch_and_save_data(total_rows, size, s)"
   ]
  }
 ],
 "metadata": {
  "kernelspec": {
   "display_name": "PySpark",
   "language": "python",
   "name": "pysparkkernel"
  },
  "language_info": {
   "codemirror_mode": {
    "name": "python",
    "version": 3
   },
   "file_extension": ".py",
   "mimetype": "text/x-python",
   "name": "pyspark",
   "pygments_lexer": "python3"
  }
 },
 "nbformat": 4,
 "nbformat_minor": 5
}
